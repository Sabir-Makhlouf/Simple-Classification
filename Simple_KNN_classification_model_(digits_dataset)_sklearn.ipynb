{
  "nbformat": 4,
  "nbformat_minor": 0,
  "metadata": {
    "colab": {
      "name": "Simple KNN classification model (digits dataset)--sklearn.ipynb",
      "provenance": []
    },
    "kernelspec": {
      "name": "python3",
      "display_name": "Python 3"
    }
  },
  "cells": [
    {
      "cell_type": "code",
      "metadata": {
        "id": "2xtaxUwCah_G",
        "colab_type": "code",
        "colab": {}
      },
      "source": [
        "from sklearn import datasets\n",
        "import numpy as np\n",
        "import pandas as pd\n",
        "import matplotlib.pyplot as plt\n",
        "plt.style.use('ggplot')"
      ],
      "execution_count": 59,
      "outputs": []
    },
    {
      "cell_type": "code",
      "metadata": {
        "id": "IIUJ3x5ka68c",
        "colab_type": "code",
        "colab": {
          "base_uri": "https://localhost:8080/",
          "height": 852
        },
        "outputId": "dd91298a-818f-4670-a50f-af2b175c88c2"
      },
      "source": [
        "digits = datasets.load_digits()\n",
        "print(digits.keys())\n",
        "print(digits.DESCR)"
      ],
      "execution_count": 52,
      "outputs": [
        {
          "output_type": "stream",
          "text": [
            "dict_keys(['data', 'target', 'target_names', 'images', 'DESCR'])\n",
            ".. _digits_dataset:\n",
            "\n",
            "Optical recognition of handwritten digits dataset\n",
            "--------------------------------------------------\n",
            "\n",
            "**Data Set Characteristics:**\n",
            "\n",
            "    :Number of Instances: 5620\n",
            "    :Number of Attributes: 64\n",
            "    :Attribute Information: 8x8 image of integer pixels in the range 0..16.\n",
            "    :Missing Attribute Values: None\n",
            "    :Creator: E. Alpaydin (alpaydin '@' boun.edu.tr)\n",
            "    :Date: July; 1998\n",
            "\n",
            "This is a copy of the test set of the UCI ML hand-written digits datasets\n",
            "https://archive.ics.uci.edu/ml/datasets/Optical+Recognition+of+Handwritten+Digits\n",
            "\n",
            "The data set contains images of hand-written digits: 10 classes where\n",
            "each class refers to a digit.\n",
            "\n",
            "Preprocessing programs made available by NIST were used to extract\n",
            "normalized bitmaps of handwritten digits from a preprinted form. From a\n",
            "total of 43 people, 30 contributed to the training set and different 13\n",
            "to the test set. 32x32 bitmaps are divided into nonoverlapping blocks of\n",
            "4x4 and the number of on pixels are counted in each block. This generates\n",
            "an input matrix of 8x8 where each element is an integer in the range\n",
            "0..16. This reduces dimensionality and gives invariance to small\n",
            "distortions.\n",
            "\n",
            "For info on NIST preprocessing routines, see M. D. Garris, J. L. Blue, G.\n",
            "T. Candela, D. L. Dimmick, J. Geist, P. J. Grother, S. A. Janet, and C.\n",
            "L. Wilson, NIST Form-Based Handprint Recognition System, NISTIR 5469,\n",
            "1994.\n",
            "\n",
            ".. topic:: References\n",
            "\n",
            "  - C. Kaynak (1995) Methods of Combining Multiple Classifiers and Their\n",
            "    Applications to Handwritten Digit Recognition, MSc Thesis, Institute of\n",
            "    Graduate Studies in Science and Engineering, Bogazici University.\n",
            "  - E. Alpaydin, C. Kaynak (1998) Cascading Classifiers, Kybernetika.\n",
            "  - Ken Tang and Ponnuthurai N. Suganthan and Xi Yao and A. Kai Qin.\n",
            "    Linear dimensionalityreduction using relevance weighted LDA. School of\n",
            "    Electrical and Electronic Engineering Nanyang Technological University.\n",
            "    2005.\n",
            "  - Claudio Gentile. A New Approximate Maximal Margin Classification\n",
            "    Algorithm. NIPS. 2000.\n"
          ],
          "name": "stdout"
        }
      ]
    },
    {
      "cell_type": "code",
      "metadata": {
        "id": "ARzZJGt_b5jR",
        "colab_type": "code",
        "colab": {
          "base_uri": "https://localhost:8080/",
          "height": 52
        },
        "outputId": "9b7569f8-3154-466e-bfb9-16949684a580"
      },
      "source": [
        "print(digits.images.shape)\n",
        "print(digits.data.shape)"
      ],
      "execution_count": 53,
      "outputs": [
        {
          "output_type": "stream",
          "text": [
            "(1797, 8, 8)\n",
            "(1797, 64)\n"
          ],
          "name": "stdout"
        }
      ]
    },
    {
      "cell_type": "code",
      "metadata": {
        "id": "GQxlM3PBcct9",
        "colab_type": "code",
        "colab": {
          "base_uri": "https://localhost:8080/",
          "height": 264
        },
        "outputId": "acfe1d4c-712f-4548-abe3-2320c0b03063"
      },
      "source": [
        "plt.imshow(digits.images[1010], cmap=plt.cm.gray_r, interpolation='nearest')\n",
        "plt.show()"
      ],
      "execution_count": 60,
      "outputs": [
        {
          "output_type": "display_data",
          "data": {
            "image/png": "[encoded data removed]",
            "text/plain": [
              "<Figure size 432x288 with 1 Axes>"
            ]
          },
          "metadata": {
            "tags": []
          }
        }
      ]
    },
    {
      "cell_type": "code",
      "metadata": {
        "id": "4FP0nf0XddyI",
        "colab_type": "code",
        "colab": {}
      },
      "source": [
        "X = digits.data\n",
        "y = digits.target"
      ],
      "execution_count": 62,
      "outputs": []
    },
    {
      "cell_type": "code",
      "metadata": {
        "id": "EuPSApZXecsg",
        "colab_type": "code",
        "colab": {
          "base_uri": "https://localhost:8080/",
          "height": 194
        },
        "outputId": "38b406de-7df6-4f69-e54a-cea0ef3e681e"
      },
      "source": [
        "from sklearn.neighbors import KNeighborsClassifier\n",
        "from sklearn.model_selection import train_test_split\n",
        "\n",
        "X_train, X_test, y_train, y_test = train_test_split(X, y, test_size=0.2 ,stratify = y)\n",
        "knn = KNeighborsClassifier(n_neighbors=6)\n",
        "knn.fit(X_train,y_train)\n",
        "pred = knn.predict(X_test)\n",
        "print(pred)"
      ],
      "execution_count": 64,
      "outputs": [
        {
          "output_type": "stream",
          "text": [
            "[2 6 8 5 5 6 6 5 1 3 4 0 7 7 9 4 0 8 2 1 9 1 7 8 0 7 1 1 4 7 3 1 6 6 3 7 6\n",
            " 3 8 0 5 8 8 8 2 2 5 1 7 2 7 5 9 4 6 9 0 7 5 2 4 3 0 6 5 9 9 7 9 5 9 5 4 4\n",
            " 5 9 6 8 3 9 4 5 6 4 6 8 4 5 1 4 2 0 4 7 6 2 5 6 6 0 6 8 3 8 8 4 7 1 0 0 5\n",
            " 4 9 9 3 9 1 7 7 3 6 8 8 1 8 6 2 6 0 9 3 7 4 4 2 9 7 8 7 4 1 1 6 1 0 1 1 5\n",
            " 9 2 1 8 6 7 3 0 9 3 6 2 6 2 7 8 5 8 5 8 5 7 1 4 9 3 2 0 3 2 3 8 1 0 0 2 1\n",
            " 7 8 9 7 9 3 8 8 9 6 9 4 0 1 1 0 3 8 0 4 8 7 6 9 4 2 5 3 5 1 0 2 8 6 4 8 2\n",
            " 7 2 9 9 3 2 1 8 9 4 7 5 6 4 5 8 0 3 3 0 8 7 1 2 3 5 5 1 9 4 1 0 1 0 1 3 4\n",
            " 7 1 5 1 3 1 9 5 2 7 0 3 7 0 3 9 6 5 7 2 0 3 6 2 4 5 0 1 4 8 7 6 6 3 2 2 0\n",
            " 8 4 7 0 0 9 3 9 4 4 3 2 7 5 9 2 2 3 9 6 6 5 0 7 3 3 0 4 3 1 2 3 1 4 5 5 0\n",
            " 1 5 4 4 2 3 7 2 6 6 1 3 6 8 3 6 4 9 0 5 3 2 5 0 1 2 7]\n"
          ],
          "name": "stdout"
        }
      ]
    },
    {
      "cell_type": "code",
      "metadata": {
        "id": "XEDChTWje8Qg",
        "colab_type": "code",
        "colab": {
          "base_uri": "https://localhost:8080/",
          "height": 34
        },
        "outputId": "a8bd3f10-aafb-40e9-8bcd-eb5fb742176c"
      },
      "source": [
        "#acc of knn model\n",
        "knn.score(X_test,y_test)"
      ],
      "execution_count": 65,
      "outputs": [
        {
          "output_type": "execute_result",
          "data": {
            "text/plain": [
              "0.9888888888888889"
            ]
          },
          "metadata": {
            "tags": []
          },
          "execution_count": 65
        }
      ]
    }
  ]
}