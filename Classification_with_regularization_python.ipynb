{
  "nbformat": 4,
  "nbformat_minor": 0,
  "metadata": {
    "colab": {
      "name": "Classification with regularization--python.ipynb",
      "provenance": []
    },
    "kernelspec": {
      "name": "python3",
      "display_name": "Python 3"
    }
  },
  "cells": [
    {
      "cell_type": "code",
      "metadata": {
        "id": "F1twkjn06Oir",
        "colab_type": "code",
        "colab": {}
      },
      "source": [
        "import numpy as np\n",
        "import pandas as pd\n",
        "import matplotlib.pyplot as plt\n",
        "import scipy.optimize as opt"
      ],
      "execution_count": 16,
      "outputs": []
    },
    {
      "cell_type": "code",
      "metadata": {
        "id": "39Qc1oFC72PX",
        "colab_type": "code",
        "colab": {
          "base_uri": "https://localhost:8080/",
          "height": 197
        },
        "outputId": "a68fc912-b796-44fb-ae98-5f06324d9358"
      },
      "source": [
        "path = 'ex2data1.txt'\n",
        "data = pd.read_csv(path, names=['Exam 1', 'Exam 2', 'Admitted'])\n",
        "data.head()"
      ],
      "execution_count": 17,
      "outputs": [
        {
          "output_type": "execute_result",
          "data": {
            "text/html": [
              "<div>\n",
              "<style scoped>\n",
              "    .dataframe tbody tr th:only-of-type {\n",
              "        vertical-align: middle;\n",
              "    }\n",
              "\n",
              "    .dataframe tbody tr th {\n",
              "        vertical-align: top;\n",
              "    }\n",
              "\n",
              "    .dataframe thead th {\n",
              "        text-align: right;\n",
              "    }\n",
              "</style>\n",
              "<table border=\"1\" class=\"dataframe\">\n",
              "  <thead>\n",
              "    <tr style=\"text-align: right;\">\n",
              "      <th></th>\n",
              "      <th>Exam 1</th>\n",
              "      <th>Exam 2</th>\n",
              "      <th>Admitted</th>\n",
              "    </tr>\n",
              "  </thead>\n",
              "  <tbody>\n",
              "    <tr>\n",
              "      <th>0</th>\n",
              "      <td>34.623660</td>\n",
              "      <td>78.024693</td>\n",
              "      <td>0</td>\n",
              "    </tr>\n",
              "    <tr>\n",
              "      <th>1</th>\n",
              "      <td>30.286711</td>\n",
              "      <td>43.894998</td>\n",
              "      <td>0</td>\n",
              "    </tr>\n",
              "    <tr>\n",
              "      <th>2</th>\n",
              "      <td>35.847409</td>\n",
              "      <td>72.902198</td>\n",
              "      <td>0</td>\n",
              "    </tr>\n",
              "    <tr>\n",
              "      <th>3</th>\n",
              "      <td>60.182599</td>\n",
              "      <td>86.308552</td>\n",
              "      <td>1</td>\n",
              "    </tr>\n",
              "    <tr>\n",
              "      <th>4</th>\n",
              "      <td>79.032736</td>\n",
              "      <td>75.344376</td>\n",
              "      <td>1</td>\n",
              "    </tr>\n",
              "  </tbody>\n",
              "</table>\n",
              "</div>"
            ],
            "text/plain": [
              "      Exam 1     Exam 2  Admitted\n",
              "0  34.623660  78.024693         0\n",
              "1  30.286711  43.894998         0\n",
              "2  35.847409  72.902198         0\n",
              "3  60.182599  86.308552         1\n",
              "4  79.032736  75.344376         1"
            ]
          },
          "metadata": {
            "tags": []
          },
          "execution_count": 17
        }
      ]
    },
    {
      "cell_type": "code",
      "metadata": {
        "id": "ki0SCOKe8CKL",
        "colab_type": "code",
        "colab": {
          "base_uri": "https://localhost:8080/",
          "height": 287
        },
        "outputId": "a86e351a-8550-454a-b9d7-cbcd6d914c58"
      },
      "source": [
        "data.describe()"
      ],
      "execution_count": 18,
      "outputs": [
        {
          "output_type": "execute_result",
          "data": {
            "text/html": [
              "<div>\n",
              "<style scoped>\n",
              "    .dataframe tbody tr th:only-of-type {\n",
              "        vertical-align: middle;\n",
              "    }\n",
              "\n",
              "    .dataframe tbody tr th {\n",
              "        vertical-align: top;\n",
              "    }\n",
              "\n",
              "    .dataframe thead th {\n",
              "        text-align: right;\n",
              "    }\n",
              "</style>\n",
              "<table border=\"1\" class=\"dataframe\">\n",
              "  <thead>\n",
              "    <tr style=\"text-align: right;\">\n",
              "      <th></th>\n",
              "      <th>Exam 1</th>\n",
              "      <th>Exam 2</th>\n",
              "      <th>Admitted</th>\n",
              "    </tr>\n",
              "  </thead>\n",
              "  <tbody>\n",
              "    <tr>\n",
              "      <th>count</th>\n",
              "      <td>100.000000</td>\n",
              "      <td>100.000000</td>\n",
              "      <td>100.000000</td>\n",
              "    </tr>\n",
              "    <tr>\n",
              "      <th>mean</th>\n",
              "      <td>65.644274</td>\n",
              "      <td>66.221998</td>\n",
              "      <td>0.600000</td>\n",
              "    </tr>\n",
              "    <tr>\n",
              "      <th>std</th>\n",
              "      <td>19.458222</td>\n",
              "      <td>18.582783</td>\n",
              "      <td>0.492366</td>\n",
              "    </tr>\n",
              "    <tr>\n",
              "      <th>min</th>\n",
              "      <td>30.058822</td>\n",
              "      <td>30.603263</td>\n",
              "      <td>0.000000</td>\n",
              "    </tr>\n",
              "    <tr>\n",
              "      <th>25%</th>\n",
              "      <td>50.919511</td>\n",
              "      <td>48.179205</td>\n",
              "      <td>0.000000</td>\n",
              "    </tr>\n",
              "    <tr>\n",
              "      <th>50%</th>\n",
              "      <td>67.032988</td>\n",
              "      <td>67.682381</td>\n",
              "      <td>1.000000</td>\n",
              "    </tr>\n",
              "    <tr>\n",
              "      <th>75%</th>\n",
              "      <td>80.212529</td>\n",
              "      <td>79.360605</td>\n",
              "      <td>1.000000</td>\n",
              "    </tr>\n",
              "    <tr>\n",
              "      <th>max</th>\n",
              "      <td>99.827858</td>\n",
              "      <td>98.869436</td>\n",
              "      <td>1.000000</td>\n",
              "    </tr>\n",
              "  </tbody>\n",
              "</table>\n",
              "</div>"
            ],
            "text/plain": [
              "           Exam 1      Exam 2    Admitted\n",
              "count  100.000000  100.000000  100.000000\n",
              "mean    65.644274   66.221998    0.600000\n",
              "std     19.458222   18.582783    0.492366\n",
              "min     30.058822   30.603263    0.000000\n",
              "25%     50.919511   48.179205    0.000000\n",
              "50%     67.032988   67.682381    1.000000\n",
              "75%     80.212529   79.360605    1.000000\n",
              "max     99.827858   98.869436    1.000000"
            ]
          },
          "metadata": {
            "tags": []
          },
          "execution_count": 18
        }
      ]
    },
    {
      "cell_type": "code",
      "metadata": {
        "id": "IodSO8Z48EPV",
        "colab_type": "code",
        "colab": {
          "base_uri": "https://localhost:8080/",
          "height": 1000
        },
        "outputId": "72afbe2b-ccae-4b8e-aeff-b80416f12e78"
      },
      "source": [
        "Postitive = data[data['Admitted'].isin([1])]\n",
        "Negative = data[data['Admitted'].isin([0])]\n",
        "\n",
        "print(Postitive)\n",
        "print(Negative)"
      ],
      "execution_count": 19,
      "outputs": [
        {
          "output_type": "stream",
          "text": [
            "       Exam 1     Exam 2  Admitted\n",
            "3   60.182599  86.308552         1\n",
            "4   79.032736  75.344376         1\n",
            "6   61.106665  96.511426         1\n",
            "7   75.024746  46.554014         1\n",
            "8   76.098787  87.420570         1\n",
            "9   84.432820  43.533393         1\n",
            "12  82.307053  76.481963         1\n",
            "13  69.364589  97.718692         1\n",
            "15  53.971052  89.207350         1\n",
            "16  69.070144  52.740470         1\n",
            "18  70.661510  92.927138         1\n",
            "19  76.978784  47.575964         1\n",
            "21  89.676776  65.799366         1\n",
            "24  77.924091  68.972360         1\n",
            "25  62.271014  69.954458         1\n",
            "26  80.190181  44.821629         1\n",
            "30  61.379289  72.807887         1\n",
            "31  85.404519  57.051984         1\n",
            "33  52.045405  69.432860         1\n",
            "37  64.176989  80.908061         1\n",
            "40  83.902394  56.308046         1\n",
            "42  94.443368  65.568922         1\n",
            "46  77.193035  70.458200         1\n",
            "47  97.771599  86.727822         1\n",
            "48  62.073064  96.768824         1\n",
            "49  91.564974  88.696293         1\n",
            "50  79.944818  74.163119         1\n",
            "51  99.272527  60.999031         1\n",
            "52  90.546714  43.390602         1\n",
            "56  97.645634  68.861573         1\n",
            "58  74.248691  69.824571         1\n",
            "59  71.796462  78.453562         1\n",
            "60  75.395611  85.759937         1\n",
            "66  40.457551  97.535185         1\n",
            "68  80.279574  92.116061         1\n",
            "69  66.746719  60.991394         1\n",
            "71  64.039320  78.031688         1\n",
            "72  72.346494  96.227593         1\n",
            "73  60.457886  73.094998         1\n",
            "74  58.840956  75.858448         1\n",
            "75  99.827858  72.369252         1\n",
            "76  47.264269  88.475865         1\n",
            "77  50.458160  75.809860         1\n",
            "80  88.913896  69.803789         1\n",
            "81  94.834507  45.694307         1\n",
            "82  67.319257  66.589353         1\n",
            "83  57.238706  59.514282         1\n",
            "84  80.366756  90.960148         1\n",
            "85  68.468522  85.594307         1\n",
            "87  75.477702  90.424539         1\n",
            "88  78.635424  96.647427         1\n",
            "90  94.094331  77.159105         1\n",
            "91  90.448551  87.508792         1\n",
            "93  74.492692  84.845137         1\n",
            "94  89.845807  45.358284         1\n",
            "95  83.489163  48.380286         1\n",
            "96  42.261701  87.103851         1\n",
            "97  99.315009  68.775409         1\n",
            "98  55.340018  64.931938         1\n",
            "99  74.775893  89.529813         1\n",
            "       Exam 1     Exam 2  Admitted\n",
            "0   34.623660  78.024693         0\n",
            "1   30.286711  43.894998         0\n",
            "2   35.847409  72.902198         0\n",
            "5   45.083277  56.316372         0\n",
            "10  95.861555  38.225278         0\n",
            "11  75.013658  30.603263         0\n",
            "14  39.538339  76.036811         0\n",
            "17  67.946855  46.678574         0\n",
            "20  67.372028  42.838438         0\n",
            "22  50.534788  48.855812         0\n",
            "23  34.212061  44.209529         0\n",
            "27  93.114389  38.800670         0\n",
            "28  61.830206  50.256108         0\n",
            "29  38.785804  64.995681         0\n",
            "32  52.107980  63.127624         0\n",
            "34  40.236894  71.167748         0\n",
            "35  54.635106  52.213886         0\n",
            "36  33.915500  98.869436         0\n",
            "38  74.789253  41.573415         0\n",
            "39  34.183640  75.237720         0\n",
            "41  51.547720  46.856290         0\n",
            "43  82.368754  40.618255         0\n",
            "44  51.047752  45.822701         0\n",
            "45  62.222676  52.060992         0\n",
            "53  34.524514  60.396342         0\n",
            "54  50.286496  49.804539         0\n",
            "55  49.586677  59.808951         0\n",
            "57  32.577200  95.598548         0\n",
            "61  35.286113  47.020514         0\n",
            "62  56.253817  39.261473         0\n",
            "63  30.058822  49.592974         0\n",
            "64  44.668262  66.450086         0\n",
            "65  66.560894  41.092098         0\n",
            "67  49.072563  51.883212         0\n",
            "70  32.722833  43.307173         0\n",
            "78  60.455556  42.508409         0\n",
            "79  82.226662  42.719879         0\n",
            "86  42.075455  78.844786         0\n",
            "89  52.348004  60.769505         0\n",
            "92  55.482161  35.570703         0\n"
          ],
          "name": "stdout"
        }
      ]
    },
    {
      "cell_type": "code",
      "metadata": {
        "id": "9jesawMB8GWs",
        "colab_type": "code",
        "colab": {
          "base_uri": "https://localhost:8080/",
          "height": 352
        },
        "outputId": "0b612d0b-2671-4691-f3d6-444a4f7ddbd9"
      },
      "source": [
        "fid, ax = plt.subplots(figsize=(8,5))\n",
        "ax.scatter(Postitive['Exam 1'], Postitive['Exam 2'], s=50, c='g', marker='o', label='Admitted')\n",
        "ax.scatter(Negative['Exam 1'], Negative['Exam 2'], s=50, c='r', marker='x', label='Not Admitted')\n",
        "ax.legend()\n",
        "ax.set_xlabel('Exam 1 Score')\n",
        "ax.set_ylabel('Exam 2 Score')"
      ],
      "execution_count": 20,
      "outputs": [
        {
          "output_type": "execute_result",
          "data": {
            "text/plain": [
              "Text(0, 0.5, 'Exam 2 Score')"
            ]
          },
          "metadata": {
            "tags": []
          },
          "execution_count": 20
        },
        {
          "output_type": "display_data",
          "data": {
            "image/png": "[encoded data removed]",
            "text/plain": [
              "<Figure size 576x360 with 1 Axes>"
            ]
          },
          "metadata": {
            "tags": [],
            "needs_background": "light"
          }
        }
      ]
    },
    {
      "cell_type": "code",
      "metadata": {
        "id": "K1iUwMa78gQu",
        "colab_type": "code",
        "colab": {
          "base_uri": "https://localhost:8080/",
          "height": 443
        },
        "outputId": "f06249bb-9327-4824-cc01-30feb0ccb986"
      },
      "source": [
        "degree = 5\n",
        "x1 = data['Exam 1']\n",
        "x2 = data['Exam 2']\n",
        "\n",
        "print(x1)\n",
        "print(x2)"
      ],
      "execution_count": 21,
      "outputs": [
        {
          "output_type": "stream",
          "text": [
            "0     34.623660\n",
            "1     30.286711\n",
            "2     35.847409\n",
            "3     60.182599\n",
            "4     79.032736\n",
            "        ...    \n",
            "95    83.489163\n",
            "96    42.261701\n",
            "97    99.315009\n",
            "98    55.340018\n",
            "99    74.775893\n",
            "Name: Exam 1, Length: 100, dtype: float64\n",
            "0     78.024693\n",
            "1     43.894998\n",
            "2     72.902198\n",
            "3     86.308552\n",
            "4     75.344376\n",
            "        ...    \n",
            "95    48.380286\n",
            "96    87.103851\n",
            "97    68.775409\n",
            "98    64.931938\n",
            "99    89.529813\n",
            "Name: Exam 2, Length: 100, dtype: float64\n"
          ],
          "name": "stdout"
        }
      ]
    },
    {
      "cell_type": "code",
      "metadata": {
        "id": "GhhWhlkR9BLp",
        "colab_type": "code",
        "colab": {
          "base_uri": "https://localhost:8080/",
          "height": 197
        },
        "outputId": "b82fb0b8-b086-4757-d24a-d0ed1a8f2ed8"
      },
      "source": [
        "data.insert(3,'ones', 1) #adding x0\n",
        "data.head()"
      ],
      "execution_count": 22,
      "outputs": [
        {
          "output_type": "execute_result",
          "data": {
            "text/html": [
              "<div>\n",
              "<style scoped>\n",
              "    .dataframe tbody tr th:only-of-type {\n",
              "        vertical-align: middle;\n",
              "    }\n",
              "\n",
              "    .dataframe tbody tr th {\n",
              "        vertical-align: top;\n",
              "    }\n",
              "\n",
              "    .dataframe thead th {\n",
              "        text-align: right;\n",
              "    }\n",
              "</style>\n",
              "<table border=\"1\" class=\"dataframe\">\n",
              "  <thead>\n",
              "    <tr style=\"text-align: right;\">\n",
              "      <th></th>\n",
              "      <th>Exam 1</th>\n",
              "      <th>Exam 2</th>\n",
              "      <th>Admitted</th>\n",
              "      <th>ones</th>\n",
              "    </tr>\n",
              "  </thead>\n",
              "  <tbody>\n",
              "    <tr>\n",
              "      <th>0</th>\n",
              "      <td>34.623660</td>\n",
              "      <td>78.024693</td>\n",
              "      <td>0</td>\n",
              "      <td>1</td>\n",
              "    </tr>\n",
              "    <tr>\n",
              "      <th>1</th>\n",
              "      <td>30.286711</td>\n",
              "      <td>43.894998</td>\n",
              "      <td>0</td>\n",
              "      <td>1</td>\n",
              "    </tr>\n",
              "    <tr>\n",
              "      <th>2</th>\n",
              "      <td>35.847409</td>\n",
              "      <td>72.902198</td>\n",
              "      <td>0</td>\n",
              "      <td>1</td>\n",
              "    </tr>\n",
              "    <tr>\n",
              "      <th>3</th>\n",
              "      <td>60.182599</td>\n",
              "      <td>86.308552</td>\n",
              "      <td>1</td>\n",
              "      <td>1</td>\n",
              "    </tr>\n",
              "    <tr>\n",
              "      <th>4</th>\n",
              "      <td>79.032736</td>\n",
              "      <td>75.344376</td>\n",
              "      <td>1</td>\n",
              "      <td>1</td>\n",
              "    </tr>\n",
              "  </tbody>\n",
              "</table>\n",
              "</div>"
            ],
            "text/plain": [
              "      Exam 1     Exam 2  Admitted  ones\n",
              "0  34.623660  78.024693         0     1\n",
              "1  30.286711  43.894998         0     1\n",
              "2  35.847409  72.902198         0     1\n",
              "3  60.182599  86.308552         1     1\n",
              "4  79.032736  75.344376         1     1"
            ]
          },
          "metadata": {
            "tags": []
          },
          "execution_count": 22
        }
      ]
    },
    {
      "cell_type": "code",
      "metadata": {
        "id": "1Rqq6F7_9PD-",
        "colab_type": "code",
        "colab": {
          "base_uri": "https://localhost:8080/",
          "height": 217
        },
        "outputId": "7c89afa0-5035-4e04-f022-edeb73d562d5"
      },
      "source": [
        "for i in range(1, degree): #1,2,3,4\n",
        "  for j in range(0,i): #0(F10), 1(F20)(f21), 2(F30)(f31)(f32), 3(F40)(f41)(f42)(f43)\n",
        "    data['F' + str(i) + str(j)] = np.power(x1, i-j) * np.power(x2,j)\n",
        "  \n",
        "data.head()"
      ],
      "execution_count": 23,
      "outputs": [
        {
          "output_type": "execute_result",
          "data": {
            "text/html": [
              "<div>\n",
              "<style scoped>\n",
              "    .dataframe tbody tr th:only-of-type {\n",
              "        vertical-align: middle;\n",
              "    }\n",
              "\n",
              "    .dataframe tbody tr th {\n",
              "        vertical-align: top;\n",
              "    }\n",
              "\n",
              "    .dataframe thead th {\n",
              "        text-align: right;\n",
              "    }\n",
              "</style>\n",
              "<table border=\"1\" class=\"dataframe\">\n",
              "  <thead>\n",
              "    <tr style=\"text-align: right;\">\n",
              "      <th></th>\n",
              "      <th>Exam 1</th>\n",
              "      <th>Exam 2</th>\n",
              "      <th>Admitted</th>\n",
              "      <th>ones</th>\n",
              "      <th>F10</th>\n",
              "      <th>F20</th>\n",
              "      <th>F21</th>\n",
              "      <th>F30</th>\n",
              "      <th>F31</th>\n",
              "      <th>F32</th>\n",
              "      <th>F40</th>\n",
              "      <th>F41</th>\n",
              "      <th>F42</th>\n",
              "      <th>F43</th>\n",
              "    </tr>\n",
              "  </thead>\n",
              "  <tbody>\n",
              "    <tr>\n",
              "      <th>0</th>\n",
              "      <td>34.623660</td>\n",
              "      <td>78.024693</td>\n",
              "      <td>0</td>\n",
              "      <td>1</td>\n",
              "      <td>34.623660</td>\n",
              "      <td>1198.797806</td>\n",
              "      <td>2701.500406</td>\n",
              "      <td>41506.767186</td>\n",
              "      <td>93535.830545</td>\n",
              "      <td>210783.739346</td>\n",
              "      <td>1.437116e+06</td>\n",
              "      <td>3.238553e+06</td>\n",
              "      <td>7.298104e+06</td>\n",
              "      <td>1.644634e+07</td>\n",
              "    </tr>\n",
              "    <tr>\n",
              "      <th>1</th>\n",
              "      <td>30.286711</td>\n",
              "      <td>43.894998</td>\n",
              "      <td>0</td>\n",
              "      <td>1</td>\n",
              "      <td>30.286711</td>\n",
              "      <td>917.284849</td>\n",
              "      <td>1329.435094</td>\n",
              "      <td>27781.540919</td>\n",
              "      <td>40264.216183</td>\n",
              "      <td>58355.550167</td>\n",
              "      <td>8.414115e+05</td>\n",
              "      <td>1.219471e+06</td>\n",
              "      <td>1.767398e+06</td>\n",
              "      <td>2.561517e+06</td>\n",
              "    </tr>\n",
              "    <tr>\n",
              "      <th>2</th>\n",
              "      <td>35.847409</td>\n",
              "      <td>72.902198</td>\n",
              "      <td>0</td>\n",
              "      <td>1</td>\n",
              "      <td>35.847409</td>\n",
              "      <td>1285.036716</td>\n",
              "      <td>2613.354893</td>\n",
              "      <td>46065.236426</td>\n",
              "      <td>93682.001107</td>\n",
              "      <td>190519.315918</td>\n",
              "      <td>1.651319e+06</td>\n",
              "      <td>3.358257e+06</td>\n",
              "      <td>6.829624e+06</td>\n",
              "      <td>1.388928e+07</td>\n",
              "    </tr>\n",
              "    <tr>\n",
              "      <th>3</th>\n",
              "      <td>60.182599</td>\n",
              "      <td>86.308552</td>\n",
              "      <td>1</td>\n",
              "      <td>1</td>\n",
              "      <td>60.182599</td>\n",
              "      <td>3621.945269</td>\n",
              "      <td>5194.273014</td>\n",
              "      <td>217978.081116</td>\n",
              "      <td>312604.851926</td>\n",
              "      <td>448310.183058</td>\n",
              "      <td>1.311849e+07</td>\n",
              "      <td>1.881337e+07</td>\n",
              "      <td>2.698047e+07</td>\n",
              "      <td>3.869300e+07</td>\n",
              "    </tr>\n",
              "    <tr>\n",
              "      <th>4</th>\n",
              "      <td>79.032736</td>\n",
              "      <td>75.344376</td>\n",
              "      <td>1</td>\n",
              "      <td>1</td>\n",
              "      <td>79.032736</td>\n",
              "      <td>6246.173368</td>\n",
              "      <td>5954.672216</td>\n",
              "      <td>493652.171093</td>\n",
              "      <td>470614.037503</td>\n",
              "      <td>448651.064989</td>\n",
              "      <td>3.901468e+07</td>\n",
              "      <td>3.719392e+07</td>\n",
              "      <td>3.545812e+07</td>\n",
              "      <td>3.380333e+07</td>\n",
              "    </tr>\n",
              "  </tbody>\n",
              "</table>\n",
              "</div>"
            ],
            "text/plain": [
              "      Exam 1     Exam 2  Admitted  ...           F41           F42           F43\n",
              "0  34.623660  78.024693         0  ...  3.238553e+06  7.298104e+06  1.644634e+07\n",
              "1  30.286711  43.894998         0  ...  1.219471e+06  1.767398e+06  2.561517e+06\n",
              "2  35.847409  72.902198         0  ...  3.358257e+06  6.829624e+06  1.388928e+07\n",
              "3  60.182599  86.308552         1  ...  1.881337e+07  2.698047e+07  3.869300e+07\n",
              "4  79.032736  75.344376         1  ...  3.719392e+07  3.545812e+07  3.380333e+07\n",
              "\n",
              "[5 rows x 14 columns]"
            ]
          },
          "metadata": {
            "tags": []
          },
          "execution_count": 23
        }
      ]
    },
    {
      "cell_type": "code",
      "metadata": {
        "id": "44aDZUfaAr3x",
        "colab_type": "code",
        "colab": {
          "base_uri": "https://localhost:8080/",
          "height": 217
        },
        "outputId": "06b605f8-9b4b-48c4-d53b-61be54315e20"
      },
      "source": [
        "data.drop('Exam 1', axis=1, inplace=True)\n",
        "data.drop('Exam 2', axis=1, inplace=True)\n",
        "\n",
        "data.head()"
      ],
      "execution_count": 24,
      "outputs": [
        {
          "output_type": "execute_result",
          "data": {
            "text/html": [
              "<div>\n",
              "<style scoped>\n",
              "    .dataframe tbody tr th:only-of-type {\n",
              "        vertical-align: middle;\n",
              "    }\n",
              "\n",
              "    .dataframe tbody tr th {\n",
              "        vertical-align: top;\n",
              "    }\n",
              "\n",
              "    .dataframe thead th {\n",
              "        text-align: right;\n",
              "    }\n",
              "</style>\n",
              "<table border=\"1\" class=\"dataframe\">\n",
              "  <thead>\n",
              "    <tr style=\"text-align: right;\">\n",
              "      <th></th>\n",
              "      <th>Admitted</th>\n",
              "      <th>ones</th>\n",
              "      <th>F10</th>\n",
              "      <th>F20</th>\n",
              "      <th>F21</th>\n",
              "      <th>F30</th>\n",
              "      <th>F31</th>\n",
              "      <th>F32</th>\n",
              "      <th>F40</th>\n",
              "      <th>F41</th>\n",
              "      <th>F42</th>\n",
              "      <th>F43</th>\n",
              "    </tr>\n",
              "  </thead>\n",
              "  <tbody>\n",
              "    <tr>\n",
              "      <th>0</th>\n",
              "      <td>0</td>\n",
              "      <td>1</td>\n",
              "      <td>34.623660</td>\n",
              "      <td>1198.797806</td>\n",
              "      <td>2701.500406</td>\n",
              "      <td>41506.767186</td>\n",
              "      <td>93535.830545</td>\n",
              "      <td>210783.739346</td>\n",
              "      <td>1.437116e+06</td>\n",
              "      <td>3.238553e+06</td>\n",
              "      <td>7.298104e+06</td>\n",
              "      <td>1.644634e+07</td>\n",
              "    </tr>\n",
              "    <tr>\n",
              "      <th>1</th>\n",
              "      <td>0</td>\n",
              "      <td>1</td>\n",
              "      <td>30.286711</td>\n",
              "      <td>917.284849</td>\n",
              "      <td>1329.435094</td>\n",
              "      <td>27781.540919</td>\n",
              "      <td>40264.216183</td>\n",
              "      <td>58355.550167</td>\n",
              "      <td>8.414115e+05</td>\n",
              "      <td>1.219471e+06</td>\n",
              "      <td>1.767398e+06</td>\n",
              "      <td>2.561517e+06</td>\n",
              "    </tr>\n",
              "    <tr>\n",
              "      <th>2</th>\n",
              "      <td>0</td>\n",
              "      <td>1</td>\n",
              "      <td>35.847409</td>\n",
              "      <td>1285.036716</td>\n",
              "      <td>2613.354893</td>\n",
              "      <td>46065.236426</td>\n",
              "      <td>93682.001107</td>\n",
              "      <td>190519.315918</td>\n",
              "      <td>1.651319e+06</td>\n",
              "      <td>3.358257e+06</td>\n",
              "      <td>6.829624e+06</td>\n",
              "      <td>1.388928e+07</td>\n",
              "    </tr>\n",
              "    <tr>\n",
              "      <th>3</th>\n",
              "      <td>1</td>\n",
              "      <td>1</td>\n",
              "      <td>60.182599</td>\n",
              "      <td>3621.945269</td>\n",
              "      <td>5194.273014</td>\n",
              "      <td>217978.081116</td>\n",
              "      <td>312604.851926</td>\n",
              "      <td>448310.183058</td>\n",
              "      <td>1.311849e+07</td>\n",
              "      <td>1.881337e+07</td>\n",
              "      <td>2.698047e+07</td>\n",
              "      <td>3.869300e+07</td>\n",
              "    </tr>\n",
              "    <tr>\n",
              "      <th>4</th>\n",
              "      <td>1</td>\n",
              "      <td>1</td>\n",
              "      <td>79.032736</td>\n",
              "      <td>6246.173368</td>\n",
              "      <td>5954.672216</td>\n",
              "      <td>493652.171093</td>\n",
              "      <td>470614.037503</td>\n",
              "      <td>448651.064989</td>\n",
              "      <td>3.901468e+07</td>\n",
              "      <td>3.719392e+07</td>\n",
              "      <td>3.545812e+07</td>\n",
              "      <td>3.380333e+07</td>\n",
              "    </tr>\n",
              "  </tbody>\n",
              "</table>\n",
              "</div>"
            ],
            "text/plain": [
              "   Admitted  ones        F10  ...           F41           F42           F43\n",
              "0         0     1  34.623660  ...  3.238553e+06  7.298104e+06  1.644634e+07\n",
              "1         0     1  30.286711  ...  1.219471e+06  1.767398e+06  2.561517e+06\n",
              "2         0     1  35.847409  ...  3.358257e+06  6.829624e+06  1.388928e+07\n",
              "3         1     1  60.182599  ...  1.881337e+07  2.698047e+07  3.869300e+07\n",
              "4         1     1  79.032736  ...  3.719392e+07  3.545812e+07  3.380333e+07\n",
              "\n",
              "[5 rows x 12 columns]"
            ]
          },
          "metadata": {
            "tags": []
          },
          "execution_count": 24
        }
      ]
    },
    {
      "cell_type": "code",
      "metadata": {
        "id": "6UwlMSmPBeh-",
        "colab_type": "code",
        "colab": {
          "base_uri": "https://localhost:8080/",
          "height": 265
        },
        "outputId": "ec2cff7a-166c-49a7-ca9d-ce8263416b8d"
      },
      "source": [
        "cols = data.shape[1]\n",
        "X = data.iloc[: , 1:cols]\n",
        "y = data.iloc[: , 0:1]\n",
        "\n",
        "print(X.head())\n",
        "print(y.head())"
      ],
      "execution_count": 25,
      "outputs": [
        {
          "output_type": "stream",
          "text": [
            "   ones        F10          F20  ...           F41           F42           F43\n",
            "0     1  34.623660  1198.797806  ...  3.238553e+06  7.298104e+06  1.644634e+07\n",
            "1     1  30.286711   917.284849  ...  1.219471e+06  1.767398e+06  2.561517e+06\n",
            "2     1  35.847409  1285.036716  ...  3.358257e+06  6.829624e+06  1.388928e+07\n",
            "3     1  60.182599  3621.945269  ...  1.881337e+07  2.698047e+07  3.869300e+07\n",
            "4     1  79.032736  6246.173368  ...  3.719392e+07  3.545812e+07  3.380333e+07\n",
            "\n",
            "[5 rows x 11 columns]\n",
            "   Admitted\n",
            "0         0\n",
            "1         0\n",
            "2         0\n",
            "3         1\n",
            "4         1\n"
          ],
          "name": "stdout"
        }
      ]
    },
    {
      "cell_type": "code",
      "metadata": {
        "id": "aJ41twb6CB49",
        "colab_type": "code",
        "colab": {}
      },
      "source": [
        "X = np.matrix(X.values)\n",
        "y = np.matrix(y.values)"
      ],
      "execution_count": 26,
      "outputs": []
    },
    {
      "cell_type": "code",
      "metadata": {
        "id": "ROrwJXm6Eg8t",
        "colab_type": "code",
        "colab": {}
      },
      "source": [
        "def sigmoid(z):\n",
        "    return 1 / (1 + np.exp(-z))\n",
        "\n",
        "\n",
        "def costReg(theta, X, y, lr ):\n",
        "    theta = np.matrix(theta)\n",
        "    X = np.matrix(X)\n",
        "    y = np.matrix(y)\n",
        "    first = np.multiply(-y, np.log(sigmoid(X * theta.T)))\n",
        "    second = np.multiply((1 - y), np.log(1 - sigmoid(X * theta.T)))\n",
        "    reg = (lr / 2 * len(X)) * np.sum(np.power(theta[:,1:theta.shape[1]], 2))\n",
        "    \n",
        "     \n",
        "    return np.sum(first - second) / (len(X)) + reg\n",
        "\n",
        "\n",
        "\n",
        "\n",
        "def gradientReg(theta, X, y, learningRate):\n",
        "    theta = np.matrix(theta)\n",
        "    X = np.matrix(X)\n",
        "    y = np.matrix(y)\n",
        "    \n",
        "    parameters = int(theta.ravel().shape[1])\n",
        "    grad = np.zeros(parameters)\n",
        "    \n",
        "    error = sigmoid(X * theta.T) - y\n",
        "    \n",
        "    for i in range(parameters):\n",
        "        term = np.multiply(error, X[:,i])\n",
        "        \n",
        "        if (i == 0):\n",
        "            grad[i] = np.sum(term) / len(X)\n",
        "        else:\n",
        "            grad[i] =(np.sum(term)/len(X))+((learningRate/len(X))*theta[:,i])\n",
        "    \n",
        "    return grad"
      ],
      "execution_count": 27,
      "outputs": []
    },
    {
      "cell_type": "code",
      "metadata": {
        "id": "pC34fjkpFJTh",
        "colab_type": "code",
        "colab": {
          "base_uri": "https://localhost:8080/",
          "height": 34
        },
        "outputId": "eedcd746-3511-45a1-c3a8-34e5be74e77d"
      },
      "source": [
        "theta = np.zeros(X.shape[1])\n",
        "\n",
        "learningRate = 100\n",
        "\n",
        "\n",
        "rcost = costReg(theta, X, y, learningRate)\n",
        "print('regularized cost = ' , rcost)"
      ],
      "execution_count": 28,
      "outputs": [
        {
          "output_type": "stream",
          "text": [
            "regularized cost =  0.6931471805599453\n"
          ],
          "name": "stdout"
        }
      ]
    },
    {
      "cell_type": "code",
      "metadata": {
        "id": "TaSWU9hxFa_j",
        "colab_type": "code",
        "colab": {
          "base_uri": "https://localhost:8080/",
          "height": 141
        },
        "outputId": "06083835-7ed7-47ea-e7d3-0314cb113193"
      },
      "source": [
        "result = opt.fmin_tnc(func=costReg, x0=theta, fprime=gradientReg,\n",
        "                      args=(X, y, learningRate))\n",
        "print( 'result = ' , result )"
      ],
      "execution_count": 14,
      "outputs": [
        {
          "output_type": "stream",
          "text": [
            "result =  (array([-1.25174103e-15, -4.35927574e-14, -1.35510743e-12, -1.50956363e-13,\n",
            "       -2.84579139e-11,  9.62675112e-11,  1.33657208e-10,  5.36291647e-10,\n",
            "        1.13505554e-08,  1.62467797e-08,  1.75840511e-08]), 71, 4)\n"
          ],
          "name": "stdout"
        },
        {
          "output_type": "stream",
          "text": [
            "/usr/local/lib/python3.6/dist-packages/ipykernel_launcher.py:10: RuntimeWarning: divide by zero encountered in log\n",
            "  # Remove the CWD from sys.path while we load stuff.\n",
            "/usr/local/lib/python3.6/dist-packages/ipykernel_launcher.py:10: RuntimeWarning: invalid value encountered in multiply\n",
            "  # Remove the CWD from sys.path while we load stuff.\n"
          ],
          "name": "stderr"
        }
      ]
    },
    {
      "cell_type": "code",
      "metadata": {
        "id": "2TJIeeAOFe-V",
        "colab_type": "code",
        "colab": {
          "base_uri": "https://localhost:8080/",
          "height": 34
        },
        "outputId": "d1871e4a-2a3d-4da1-f85a-4dd9d1d6ce4c"
      },
      "source": [
        "def predict(theta, X):\n",
        "    probability = sigmoid(X * theta.T)\n",
        "    return [1 if x >= 0.5 else 0 for x in probability]\n",
        "\n",
        "theta_min = np.matrix(result[0])\n",
        "predictions = predict(theta_min, X)\n",
        "correct = [1 if ((a == 1 and b == 1) or (a == 0 and b == 0)) else 0 for (a, b) in zip(predictions, y)]\n",
        "accuracy = (sum(map(int, correct)) % len(correct))\n",
        "print ('accuracy = {0}%'.format(accuracy))"
      ],
      "execution_count": 15,
      "outputs": [
        {
          "output_type": "stream",
          "text": [
            "accuracy = 60%\n"
          ],
          "name": "stdout"
        }
      ]
    },
    {
      "cell_type": "code",
      "metadata": {
        "id": "ppSKegwWHkwm",
        "colab_type": "code",
        "colab": {}
      },
      "source": [
        ""
      ],
      "execution_count": 15,
      "outputs": []
    }
  ]
}